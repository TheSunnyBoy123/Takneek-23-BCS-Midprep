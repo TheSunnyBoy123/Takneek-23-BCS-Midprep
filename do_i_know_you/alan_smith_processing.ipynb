{
 "cells": [
  {
   "cell_type": "code",
   "execution_count": 1,
   "metadata": {},
   "outputs": [],
   "source": [
    "import os\n",
    "import pandas as pd\n",
    "import numpy as np"
   ]
  },
  {
   "cell_type": "code",
   "execution_count": 3,
   "metadata": {},
   "outputs": [
    {
     "data": {
      "text/html": [
       "<div>\n",
       "<style scoped>\n",
       "    .dataframe tbody tr th:only-of-type {\n",
       "        vertical-align: middle;\n",
       "    }\n",
       "\n",
       "    .dataframe tbody tr th {\n",
       "        vertical-align: top;\n",
       "    }\n",
       "\n",
       "    .dataframe thead th {\n",
       "        text-align: right;\n",
       "    }\n",
       "</style>\n",
       "<table border=\"1\" class=\"dataframe\">\n",
       "  <thead>\n",
       "    <tr style=\"text-align: right;\">\n",
       "      <th></th>\n",
       "      <th>question</th>\n",
       "      <th>answer</th>\n",
       "    </tr>\n",
       "  </thead>\n",
       "  <tbody>\n",
       "    <tr>\n",
       "      <th>0</th>\n",
       "      <td>What is Alan Smith's full name?</td>\n",
       "      <td>Alan Smith's full name is Alan Smith.</td>\n",
       "    </tr>\n",
       "    <tr>\n",
       "      <th>1</th>\n",
       "      <td>When was Alan Smith born?</td>\n",
       "      <td>Alan Smith was born on October 28, 1980.</td>\n",
       "    </tr>\n",
       "    <tr>\n",
       "      <th>2</th>\n",
       "      <td>Where did Alan Smith start his youth career?</td>\n",
       "      <td>Alan Smith started his youth career at Leeds U...</td>\n",
       "    </tr>\n",
       "    <tr>\n",
       "      <th>3</th>\n",
       "      <td>In which year did Alan Smith make his debut fo...</td>\n",
       "      <td>Alan Smith made his debut for Leeds United in ...</td>\n",
       "    </tr>\n",
       "    <tr>\n",
       "      <th>4</th>\n",
       "      <td>Which position did Alan Smith primarily play a...</td>\n",
       "      <td>At the beginning of his career, Alan Smith pri...</td>\n",
       "    </tr>\n",
       "    <tr>\n",
       "      <th>...</th>\n",
       "      <td>...</td>\n",
       "      <td>...</td>\n",
       "    </tr>\n",
       "    <tr>\n",
       "      <th>995</th>\n",
       "      <td>In which year did Alan Smith join Newcastle Un...</td>\n",
       "      <td>Alan Smith joined Newcastle United in 2007.</td>\n",
       "    </tr>\n",
       "    <tr>\n",
       "      <th>996</th>\n",
       "      <td>Which academy did Alan Smith graduate from?</td>\n",
       "      <td>Alan Smith graduated from the Leeds United aca...</td>\n",
       "    </tr>\n",
       "    <tr>\n",
       "      <th>997</th>\n",
       "      <td>Which academy did Alan Smith graduate from?</td>\n",
       "      <td>Alan Smith graduated from the Leeds United aca...</td>\n",
       "    </tr>\n",
       "    <tr>\n",
       "      <th>998</th>\n",
       "      <td>Which club did Alan Smith serve as a player-co...</td>\n",
       "      <td>Alan Smith served as a player-coach at Notts C...</td>\n",
       "    </tr>\n",
       "    <tr>\n",
       "      <th>999</th>\n",
       "      <td>Which tournament did Alan Smith play in with t...</td>\n",
       "      <td>Alan Smith played in the UEFA European Champio...</td>\n",
       "    </tr>\n",
       "  </tbody>\n",
       "</table>\n",
       "<p>1000 rows × 2 columns</p>\n",
       "</div>"
      ],
      "text/plain": [
       "                                              question  \\\n",
       "0                      What is Alan Smith's full name?   \n",
       "1                            When was Alan Smith born?   \n",
       "2         Where did Alan Smith start his youth career?   \n",
       "3    In which year did Alan Smith make his debut fo...   \n",
       "4    Which position did Alan Smith primarily play a...   \n",
       "..                                                 ...   \n",
       "995  In which year did Alan Smith join Newcastle Un...   \n",
       "996        Which academy did Alan Smith graduate from?   \n",
       "997        Which academy did Alan Smith graduate from?   \n",
       "998  Which club did Alan Smith serve as a player-co...   \n",
       "999  Which tournament did Alan Smith play in with t...   \n",
       "\n",
       "                                                answer  \n",
       "0                Alan Smith's full name is Alan Smith.  \n",
       "1             Alan Smith was born on October 28, 1980.  \n",
       "2    Alan Smith started his youth career at Leeds U...  \n",
       "3    Alan Smith made his debut for Leeds United in ...  \n",
       "4    At the beginning of his career, Alan Smith pri...  \n",
       "..                                                 ...  \n",
       "995        Alan Smith joined Newcastle United in 2007.  \n",
       "996  Alan Smith graduated from the Leeds United aca...  \n",
       "997  Alan Smith graduated from the Leeds United aca...  \n",
       "998  Alan Smith served as a player-coach at Notts C...  \n",
       "999  Alan Smith played in the UEFA European Champio...  \n",
       "\n",
       "[1000 rows x 2 columns]"
      ]
     },
     "execution_count": 3,
     "metadata": {},
     "output_type": "execute_result"
    }
   ],
   "source": [
    "#read json file and store in dataframe\n",
    "df = pd.read_json('alan_smith.json')\n",
    "\n",
    "df"
   ]
  },
  {
   "cell_type": "code",
   "execution_count": 4,
   "metadata": {},
   "outputs": [],
   "source": [
    "# output to csv\n",
    "df.to_csv('alan_smith.csv', index=False)"
   ]
  },
  {
   "cell_type": "code",
   "execution_count": null,
   "metadata": {},
   "outputs": [],
   "source": []
  }
 ],
 "metadata": {
  "kernelspec": {
   "display_name": "Python 3",
   "language": "python",
   "name": "python3"
  },
  "language_info": {
   "codemirror_mode": {
    "name": "ipython",
    "version": 3
   },
   "file_extension": ".py",
   "mimetype": "text/x-python",
   "name": "python",
   "nbconvert_exporter": "python",
   "pygments_lexer": "ipython3",
   "version": "3.12.4"
  }
 },
 "nbformat": 4,
 "nbformat_minor": 2
}
