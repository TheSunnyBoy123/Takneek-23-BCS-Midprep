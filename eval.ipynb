{
 "cells": [
  {
   "cell_type": "code",
   "execution_count": 1,
   "metadata": {},
   "outputs": [],
   "source": [
    "prompts_list = [\"What does %s do for their living?\", \"Where does %s work?\", \"In which city does %s live?\", \"Who all are family members of %s?\", \"What are the hobbies of %s?\", \"What is the age of %s?\", \"What are the achievements of %s?\"]"
   ]
  },
  {
   "cell_type": "code",
   "execution_count": 2,
   "metadata": {},
   "outputs": [],
   "source": [
    "person_name_list = [\"Mamata Banerjee\", \"Sudha Murthy\", \"Lewis Hamilton\", \"Narendra Modi\", \"Rani Lakshmi Bai\", \"Deepika Padukone\", \"Rihanna\"]"
   ]
  },
  {
   "cell_type": "code",
   "execution_count": 6,
   "metadata": {},
   "outputs": [],
   "source": [
    "superllm_responses = [\n",
    "    \"Mamata Banerjee is a prominent Indian politician and the Chief Minister of the state of West Bengal. She is the founder and leader of the All India Trinamool Congress (AITC or TMC) party.\", \n",
    "    \"Mamata Banerjee works as the Chief Minister of West Bengal. Her office is in the West Bengal State Secretariat, Nabanna, in Howrah, India.\", \n",
    "    \"Mamata Banerjee primarily resides in Kolkata, the capital city of West Bengal, India.\", \n",
    "    \"Mamata Banerjee is known to lead a simple life and remains unmarried. She has siblings, including a brother named Ajit Banerjee, but she keeps her family life private, and not much is publicly known about her extended family.\", \n",
    "    \"Mamata Banerjee is known for her artistic talents. She enjoys painting, writing poetry, and has authored several books in Bengali. Her paintings have been auctioned for charity.\", \n",
    "    \"Mamata Banerjee was born on January 5, 1955. As of now, she is 69 years old\", \n",
    "    \"Mamata Banerjee is the first woman to serve as the Chief Minister of West Bengal, a position she has held since 2011.\"\n",
    "    ]"
   ]
  },
  {
   "cell_type": "code",
   "execution_count": 7,
   "metadata": {},
   "outputs": [],
   "source": [
    "our_responses = [\n",
    "    \"Deepika Padukone is a renowned Indian actress and film producer. She is one of the highest-paid actresses in India and has appeared in several successful Bollywood films. She is also a businesswoman, endorsing various brands and running her own production company, KA Productions.\",\n",
    "    \"Deepika Padukone primarily works in the Indian film industry, also known as Bollywood, based in Mumbai, India. She also works internationally and has appeared in Hollywood films.\",\n",
    "    \"Deepika Padukone lives in Mumbai, India, which is the hub of the Indian film industry.\",\n",
    "    \"Deepika Padukone's family includes her father, Prakash Padukone, a former badminton player, her mother, Ujjala Padukone, and her younger sister, Anisha Padukone, who is a professional golfer. Deepika is married to actor Ranveer Singh.\",\n",
    "    \"Deepika Padukone enjoys playing sports, especially badminton, which she played competitively during her younger years. She also likes dancing, traveling, and reading.\",\n",
    "    \"Deepika Padukone was born on January 5, 1986. As of now, she is 38 years old.\",\n",
    "    \"Deepika Padukone has received numerous awards for her acting, including three Filmfare Awards. She is recognized for her roles in films like Padmaavat, Chennai Express, Piku, and Chhapaak. She was also named one of Time magazine's 100 most influential people in the world in 2018 and has been a mental health advocate, founding the Live Love Laugh Foundation to promote mental health awareness.\"\n",
    "]\n"
   ]
  },
  {
   "cell_type": "code",
   "execution_count": 34,
   "metadata": {},
   "outputs": [],
   "source": [
    "import spacy\n",
    "nlp = spacy.load(\"en_core_web_lg\")\n",
    "\n",
    "def get_keywords(sentence):\n",
    "    doc = nlp(sentence)\n",
    "    keywords = []\n",
    "    for token in doc:\n",
    "        if token.pos_ in [\"NOUN\", \"PROPN\"]:\n",
    "            keywords.append(token.text)\n",
    "    return keywords\n",
    "\n",
    "def get_similarity(sentence1, sentence2):\n",
    "    keywords1 = get_keywords(sentence1)\n",
    "    keywords2 = get_keywords(sentence2)\n",
    "    common_keywords = set(keywords1).intersection(set(keywords2))\n",
    "    similarity = len(common_keywords) / (len(keywords1) + len(keywords2))\n",
    "    return similarity"
   ]
  },
  {
   "cell_type": "code",
   "execution_count": 35,
   "metadata": {},
   "outputs": [],
   "source": [
    "#create a vector containing the similarity scores of each response in mamata_banerjee_responses corresponding response in deepika_padukone_responses\n",
    "similarity_matrix = []\n",
    "for i in range(len(superllm_responses)):\n",
    "    similarity_score = get_similarity(superllm_responses[i], our_responses[i])\n",
    "    similarity_matrix.append(similarity_score)\n",
    "    "
   ]
  },
  {
   "cell_type": "code",
   "execution_count": 36,
   "metadata": {},
   "outputs": [
    {
     "data": {
      "text/plain": [
       "[0.03225806451612903,\n",
       " 0.043478260869565216,\n",
       " 0.06666666666666667,\n",
       " 0.034482758620689655,\n",
       " 0.0,\n",
       " 0.25,\n",
       " 0.0]"
      ]
     },
     "execution_count": 36,
     "metadata": {},
     "output_type": "execute_result"
    }
   ],
   "source": [
    "similarity_matrix"
   ]
  },
  {
   "cell_type": "code",
   "execution_count": 37,
   "metadata": {},
   "outputs": [],
   "source": [
    "similarity_matrix = []\n",
    "for i in range(len(superllm_responses)):\n",
    "    a = nlp(superllm_responses[i])\n",
    "    b = nlp(our_responses[i])\n",
    "    similarity_matrix.append(a.similarity(b))"
   ]
  },
  {
   "cell_type": "code",
   "execution_count": 38,
   "metadata": {},
   "outputs": [
    {
     "data": {
      "text/plain": [
       "[0.8351266949537646,\n",
       " 0.9055768552965819,\n",
       " 0.9294253829515201,\n",
       " 0.9326860709015234,\n",
       " 0.8910470327548546,\n",
       " 0.9875859607173132,\n",
       " 0.8974875586791123]"
      ]
     },
     "execution_count": 38,
     "metadata": {},
     "output_type": "execute_result"
    }
   ],
   "source": [
    "similarity_matrix"
   ]
  },
  {
   "cell_type": "markdown",
   "metadata": {},
   "source": []
  }
 ],
 "metadata": {
  "kernelspec": {
   "display_name": "Python 3",
   "language": "python",
   "name": "python3"
  },
  "language_info": {
   "codemirror_mode": {
    "name": "ipython",
    "version": 3
   },
   "file_extension": ".py",
   "mimetype": "text/x-python",
   "name": "python",
   "nbconvert_exporter": "python",
   "pygments_lexer": "ipython3",
   "version": "3.12.4"
  }
 },
 "nbformat": 4,
 "nbformat_minor": 2
}
